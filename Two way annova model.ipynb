{
 "cells": [
  {
   "cell_type": "code",
   "execution_count": 1,
   "id": "0409228b-c472-4ae2-955a-78aeb9087c56",
   "metadata": {},
   "outputs": [],
   "source": [
    "import pandas as pd\n",
    "import statsmodels.api as sm\n",
    "from statsmodels.formula.api import ols"
   ]
  },
  {
   "cell_type": "code",
   "execution_count": 69,
   "id": "b711983e-4760-4c5e-8c67-6a361a0b64c4",
   "metadata": {},
   "outputs": [
    {
     "data": {
      "text/html": [
       "<div>\n",
       "<style scoped>\n",
       "    .dataframe tbody tr th:only-of-type {\n",
       "        vertical-align: middle;\n",
       "    }\n",
       "\n",
       "    .dataframe tbody tr th {\n",
       "        vertical-align: top;\n",
       "    }\n",
       "\n",
       "    .dataframe thead th {\n",
       "        text-align: right;\n",
       "    }\n",
       "</style>\n",
       "<table border=\"1\" class=\"dataframe\">\n",
       "  <thead>\n",
       "    <tr style=\"text-align: right;\">\n",
       "      <th></th>\n",
       "      <th>City</th>\n",
       "      <th>Room_Type</th>\n",
       "      <th>Revenue</th>\n",
       "    </tr>\n",
       "  </thead>\n",
       "  <tbody>\n",
       "    <tr>\n",
       "      <th>0</th>\n",
       "      <td>Mumbai</td>\n",
       "      <td>Standard</td>\n",
       "      <td>50</td>\n",
       "    </tr>\n",
       "    <tr>\n",
       "      <th>1</th>\n",
       "      <td>Mumbai</td>\n",
       "      <td>Deluxe</td>\n",
       "      <td>55</td>\n",
       "    </tr>\n",
       "    <tr>\n",
       "      <th>2</th>\n",
       "      <td>Mumbai</td>\n",
       "      <td>Super Deluxe</td>\n",
       "      <td>60</td>\n",
       "    </tr>\n",
       "    <tr>\n",
       "      <th>3</th>\n",
       "      <td>Delhi</td>\n",
       "      <td>Standard</td>\n",
       "      <td>30</td>\n",
       "    </tr>\n",
       "    <tr>\n",
       "      <th>4</th>\n",
       "      <td>Delhi</td>\n",
       "      <td>Deluxe</td>\n",
       "      <td>45</td>\n",
       "    </tr>\n",
       "  </tbody>\n",
       "</table>\n",
       "</div>"
      ],
      "text/plain": [
       "     City     Room_Type  Revenue\n",
       "0  Mumbai      Standard       50\n",
       "1  Mumbai        Deluxe       55\n",
       "2  Mumbai  Super Deluxe       60\n",
       "3   Delhi      Standard       30\n",
       "4   Delhi        Deluxe       45"
      ]
     },
     "execution_count": 69,
     "metadata": {},
     "output_type": "execute_result"
    }
   ],
   "source": [
    "df = pd.read_excel(r'C:\\Users\\rajes\\Downloads\\STS-Fall24-FinalExam.xlsx',sheet_name = 'Suites')\n",
    "df.head()"
   ]
  },
  {
   "cell_type": "code",
   "execution_count": 90,
   "id": "c61d8473-9af8-4d28-b65e-0c36c0fc0a8d",
   "metadata": {},
   "outputs": [
    {
     "data": {
      "text/plain": [
       "City       Room_Type   \n",
       "Bangalore  Deluxe          45.0\n",
       "           Standard        40.0\n",
       "           Super Deluxe    50.0\n",
       "Chennai    Deluxe          30.0\n",
       "           Standard        30.0\n",
       "           Super Deluxe    40.0\n",
       "Delhi      Deluxe          45.0\n",
       "           Standard        30.0\n",
       "           Super Deluxe    45.0\n",
       "Mumbai     Deluxe          55.0\n",
       "           Standard        50.0\n",
       "           Super Deluxe    60.0\n",
       "Name: Revenue, dtype: float64"
      ]
     },
     "execution_count": 90,
     "metadata": {},
     "output_type": "execute_result"
    }
   ],
   "source": [
    "df.groupby(['City','Room_Type'])['Revenue'].mean()"
   ]
  },
  {
   "cell_type": "raw",
   "id": "232651f3-aeb1-4fe1-929c-6443c6f2a1a8",
   "metadata": {},
   "source": [
    "Hypothesis for City\n",
    "\n",
    "H0 : There is no significance difference in the average revenue between cities.\n",
    "H1 : There is significance difference in the average revenue between cities.\n",
    "\n",
    "Hypothesis for Room_type\n",
    "\n",
    "H0 : There is no significance difference in the average revenue between Room_type.\n",
    "H1 : There is significance difference in the average revenue between Room_type.\n"
   ]
  },
  {
   "cell_type": "code",
   "execution_count": 110,
   "id": "c7f708c1-133d-46aa-b4a6-2182e4f540c9",
   "metadata": {},
   "outputs": [
    {
     "data": {
      "text/html": [
       "<div>\n",
       "<style scoped>\n",
       "    .dataframe tbody tr th:only-of-type {\n",
       "        vertical-align: middle;\n",
       "    }\n",
       "\n",
       "    .dataframe tbody tr th {\n",
       "        vertical-align: top;\n",
       "    }\n",
       "\n",
       "    .dataframe thead th {\n",
       "        text-align: right;\n",
       "    }\n",
       "</style>\n",
       "<table border=\"1\" class=\"dataframe\">\n",
       "  <thead>\n",
       "    <tr style=\"text-align: right;\">\n",
       "      <th></th>\n",
       "      <th>df</th>\n",
       "      <th>sum_sq</th>\n",
       "      <th>mean_sq</th>\n",
       "      <th>F</th>\n",
       "      <th>PR(&gt;F)</th>\n",
       "    </tr>\n",
       "  </thead>\n",
       "  <tbody>\n",
       "    <tr>\n",
       "      <th>C(City)</th>\n",
       "      <td>3.0</td>\n",
       "      <td>750.000000</td>\n",
       "      <td>250.000000</td>\n",
       "      <td>24.0</td>\n",
       "      <td>0.000966</td>\n",
       "    </tr>\n",
       "    <tr>\n",
       "      <th>C(Room_Type)</th>\n",
       "      <td>2.0</td>\n",
       "      <td>254.166667</td>\n",
       "      <td>127.083333</td>\n",
       "      <td>12.2</td>\n",
       "      <td>0.007688</td>\n",
       "    </tr>\n",
       "    <tr>\n",
       "      <th>Residual</th>\n",
       "      <td>6.0</td>\n",
       "      <td>62.500000</td>\n",
       "      <td>10.416667</td>\n",
       "      <td>NaN</td>\n",
       "      <td>NaN</td>\n",
       "    </tr>\n",
       "  </tbody>\n",
       "</table>\n",
       "</div>"
      ],
      "text/plain": [
       "               df      sum_sq     mean_sq     F    PR(>F)\n",
       "C(City)       3.0  750.000000  250.000000  24.0  0.000966\n",
       "C(Room_Type)  2.0  254.166667  127.083333  12.2  0.007688\n",
       "Residual      6.0   62.500000   10.416667   NaN       NaN"
      ]
     },
     "execution_count": 110,
     "metadata": {},
     "output_type": "execute_result"
    }
   ],
   "source": [
    "model = ols('Revenue ~ C(City) + C(Room_Type)',data=df).fit()\n",
    "annova_table = sm.stats.anova_lm(model)\n",
    "annova_table"
   ]
  },
  {
   "cell_type": "raw",
   "id": "1d3bc842-2471-48cd-b9cc-1ac12b977c2e",
   "metadata": {},
   "source": [
    "If we check for interaction We are getting zero division error.\n",
    "Ignore the Interaction."
   ]
  },
  {
   "cell_type": "markdown",
   "id": "3540b255-3ebc-48f1-b4c9-a60ced790428",
   "metadata": {},
   "source": [
    "# Inference from ANOVA Summary"
   ]
  },
  {
   "cell_type": "raw",
   "id": "5a09ffb7-5675-4c88-bcf9-31220b897e9e",
   "metadata": {},
   "source": [
    "1.Conduct a suitable test to find out if there is a difference in the average revenue between cities and between rooms. What other insights can you obtain?\n",
    "\n",
    "1.The suitable test to find out if there is a difference in the average revenue between cities and between rooms is \"Two Way Anova test\".\n",
    "2.By Performing two way anova test we got \"P_Values\" and the inference is :\n",
    "\n",
    "1.Cities: The p-value for C(City) is 0.000966, which is less than 0.05.\n",
    "This indicates a statistically significant difference in average revenue between cities.\n",
    "    \n",
    "Room Types: The p-value for C(Room_Type) is 0.007688, which is also less than 0.05. \n",
    "This indicates a statistically significant difference in average revenue between different room types."
   ]
  },
  {
   "cell_type": "code",
   "execution_count": null,
   "id": "855ab3bf-ab19-4d20-892c-3e3712514ee8",
   "metadata": {},
   "outputs": [],
   "source": [
    "Question 2 :If you did find a significant difference between cities, \n",
    "which cities seem to be making a significant difference to revenue? \n",
    "What test can you conduct to conclude this?"
   ]
  },
  {
   "cell_type": "raw",
   "id": "71b5595c-90f2-41fb-8b58-47234ed69e80",
   "metadata": {},
   "source": [
    "1.Yes we can see that there is significant difference in average revenue between cities.\n",
    "2. To determine which specific cities are contributing to the significant difference in revenue, \n",
    "   you can perform a \"post-hoc test\".\n",
    "3.By the below graph we can see that \"Mumbai\" is making significant difference in revenue"
   ]
  },
  {
   "cell_type": "code",
   "execution_count": 117,
   "id": "25429827-ce54-458f-b0bc-d3cd2b134ed3",
   "metadata": {},
   "outputs": [
    {
     "data": {
      "image/png": "[encoded data removed]",
      "text/plain": [
       "<Figure size 1000x600 with 1 Axes>"
      ]
     },
     "metadata": {},
     "output_type": "display_data"
    }
   ],
   "source": [
    "import matplotlib.pyplot as plt\n",
    "from statsmodels.stats.multicomp import pairwise_tukeyhsd\n",
    "tukey = pairwise_tukeyhsd(endog=df['Revenue'], groups=df['City'], alpha=0.05)\n",
    "tukey.plot_simultaneous()\n",
    "plt.title('Tukey HSD Test for Revenue by City')\n",
    "plt.xlabel('Mean Revenue Difference')\n",
    "plt.show()"
   ]
  },
  {
   "cell_type": "raw",
   "id": "a55dd0e8-9c86-48d1-831b-27e5f2e6d64e",
   "metadata": {},
   "source": [
    "Question3 : What recommendation can you provide to the business based on your analysis?\n",
    "\n",
    "1.Since there is a significant difference in revenue between cities, \n",
    "focus on cities like Mumbai, which has the highest average revenue across room types.\n",
    "\n",
    "2.Given that different room types generate different revenues,\n",
    "the business should consider adjusting pricing or inventory for room types that generate higher revenue.\n",
    "\n",
    "3.Raise or adjust prices for the rooms that are most popular and making the most money.\n",
    "\n",
    "4.For rooms that aren’t doing as well, offer discounts or promotions to attract more guests.\n",
    "    \n",
    "5.Think about which rooms to focus on more—maybe offer more of the high-demand ones or upgrade certain rooms to make them more appealing."
   ]
  }
 ],
 "metadata": {
  "kernelspec": {
   "display_name": "Python 3 (ipykernel)",
   "language": "python",
   "name": "python3"
  },
  "language_info": {
   "codemirror_mode": {
    "name": "ipython",
    "version": 3
   },
   "file_extension": ".py",
   "mimetype": "text/x-python",
   "name": "python",
   "nbconvert_exporter": "python",
   "pygments_lexer": "ipython3",
   "version": "3.12.4"
  }
 },
 "nbformat": 4,
 "nbformat_minor": 5
}
